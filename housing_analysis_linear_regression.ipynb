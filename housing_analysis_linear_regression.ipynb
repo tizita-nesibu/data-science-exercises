{
 "cells": [
  {
   "cell_type": "markdown",
   "id": "68b2ad14-7876-4bda-a38b-2053714306a5",
   "metadata": {},
   "source": [
    "## Machine Learning with python"
   ]
  },
  {
   "cell_type": "markdown",
   "id": "965c3669-9416-4730-ab76-9750bfda1f8c",
   "metadata": {},
   "source": [
    "###  1. Linear Regression model"
   ]
  },
  {
   "cell_type": "code",
   "execution_count": null,
   "id": "c9ccef3a-e1d9-4cf0-a703-a7c3734fbd9b",
   "metadata": {},
   "outputs": [],
   "source": [
    "import pandas as pd \n",
    "import numpy as np"
   ]
  },
  {
   "cell_type": "code",
   "execution_count": null,
   "id": "1016f8e5-4950-4399-a925-82fdf7a819e4",
   "metadata": {},
   "outputs": [],
   "source": [
    "import matplotlib.pyplot as plt\n",
    "import seaborn as sns"
   ]
  },
  {
   "cell_type": "code",
   "execution_count": null,
   "id": "10528eef-dfc1-4d59-98dc-fe6e18ab08d8",
   "metadata": {},
   "outputs": [],
   "source": [
    "%matplotlib inline"
   ]
  },
  {
   "cell_type": "code",
   "execution_count": null,
   "id": "f0946f61-405f-4e51-971e-dfccb927b6ca",
   "metadata": {},
   "outputs": [],
   "source": [
    "df = pd.read_csv(\"USA_Housing.csv\")"
   ]
  },
  {
   "cell_type": "code",
   "execution_count": null,
   "id": "a6394216-63d3-4c1c-9490-9253f9535b9b",
   "metadata": {},
   "outputs": [],
   "source": [
    "df.head()"
   ]
  },
  {
   "cell_type": "code",
   "execution_count": null,
   "id": "7f54fa32-d503-4374-ac45-3263898486b5",
   "metadata": {},
   "outputs": [],
   "source": [
    "df.info() # shows general info about the DataFrame. \n",
    "# rangeIndex=number of entries(rows), number of columns,\n",
    "# column labels(names), the number of cells in each column (non-null values), \n",
    "# column data types, memory usage"
   ]
  },
  {
   "cell_type": "code",
   "execution_count": null,
   "id": "677360e4-8d72-4e62-831f-5bbbc80f5bd2",
   "metadata": {},
   "outputs": [],
   "source": [
    "df.describe()   #computes a summary of statistics pertaining to the DataFrame\n",
    "# columns. the summary is only for numeric columns (it excludes the character\n",
    "# columns. "
   ]
  },
  {
   "cell_type": "code",
   "execution_count": null,
   "id": "c0358a19-f762-4211-b0f5-30fc8afd4c58",
   "metadata": {},
   "outputs": [],
   "source": [
    "df.columns"
   ]
  },
  {
   "cell_type": "code",
   "execution_count": null,
   "id": "d406ef66-a3e7-41e1-a070-1c8e26b822f5",
   "metadata": {},
   "outputs": [],
   "source": [
    "sns.pairplot(df)"
   ]
  },
  {
   "cell_type": "code",
   "execution_count": null,
   "id": "97858850-0bd8-4b3a-8d16-c9894ecc2176",
   "metadata": {},
   "outputs": [],
   "source": [
    "sns.histplot(df['Price'], kde=True)#check the distribution of what we are trying to pridict"
   ]
  },
  {
   "cell_type": "code",
   "execution_count": null,
   "id": "52b77b26-2d07-458f-9c00-7de63f0ab8be",
   "metadata": {},
   "outputs": [],
   "source": [
    "df.corr() #shows the correlation between all the columns"
   ]
  },
  {
   "cell_type": "code",
   "execution_count": null,
   "id": "a94145e4-5b37-43ac-a7a3-40c565ab423f",
   "metadata": {},
   "outputs": [],
   "source": [
    "sns.heatmap(df.corr()) #plot the correlation of the columns as a heatmap"
   ]
  },
  {
   "cell_type": "code",
   "execution_count": null,
   "id": "52a753a5-61c1-47d5-ae47-499a0cc08b30",
   "metadata": {},
   "outputs": [],
   "source": [
    "sns.heatmap(df.corr(),annot=True) #annot=True shows the numbers of the \n",
    "                                    #correlation"
   ]
  },
  {
   "cell_type": "markdown",
   "id": "534126dc-0a43-4b1c-8d45-c4c9610ff493",
   "metadata": {},
   "source": [
    "#### Do ML (use scikit Learn to train a Linear Regression model)"
   ]
  },
  {
   "cell_type": "markdown",
   "id": "994d6df4-6795-4efa-8782-d0caf442fb9d",
   "metadata": {},
   "source": [
    "**Linear Regression formula**\n",
    "$$\\hat{y} = \\hat{w}_0{x}_0 + \\hat{w}_1{x}_1 + ... \\hat{w}_n{x}_n + b $$ similar to\n",
    "$$y = mx + b$$"
   ]
  },
  {
   "cell_type": "code",
   "execution_count": null,
   "id": "55294f17-9692-4cd1-ba5b-3a115103a6a5",
   "metadata": {},
   "outputs": [],
   "source": [
    "#prepare-X array (featuers to train the model) and y array (the target variable)\n",
    "#target variable in this case is the Price column "
   ]
  },
  {
   "cell_type": "code",
   "execution_count": null,
   "id": "06cee4ea-d048-4f45-9ee6-4a231151f9ea",
   "metadata": {},
   "outputs": [],
   "source": [
    "# exclude Address column from the X(feature) because the Linear Regression model\n",
    "# can't use text information."
   ]
  },
  {
   "cell_type": "code",
   "execution_count": null,
   "id": "4f3a582b-0b09-4dd7-a47b-dbbaa2a794ea",
   "metadata": {},
   "outputs": [],
   "source": [
    "df.columns"
   ]
  },
  {
   "cell_type": "code",
   "execution_count": null,
   "id": "4b13288f-d7f5-448f-aa2c-812aa6e1c600",
   "metadata": {},
   "outputs": [],
   "source": [
    "X = df[['Avg. Area Income', 'Avg. Area House Age', 'Avg. Area Number of Rooms',\n",
    "       'Avg. Area Number of Bedrooms', 'Area Population']]"
   ]
  },
  {
   "cell_type": "code",
   "execution_count": null,
   "id": "f17752e8-0e23-47c9-9bba-aedd8dc7a761",
   "metadata": {},
   "outputs": [],
   "source": [
    "y = df['Price']"
   ]
  },
  {
   "cell_type": "code",
   "execution_count": null,
   "id": "832f0ce6-5214-4f85-bffe-ca868ed244a3",
   "metadata": {},
   "outputs": [],
   "source": [
    "#Split our dataset\n",
    "from sklearn.model_selection import train_test_split"
   ]
  },
  {
   "cell_type": "code",
   "execution_count": null,
   "id": "d4b06597-e20b-45d0-987d-923bece486ca",
   "metadata": {},
   "outputs": [],
   "source": [
    "X_train, X_test, y_train, y_test = train_test_split(X, y, test_size=0.4, random_state=101)\n",
    "#test_size=0.4 indicats 40% of the dataset to be allocated to the test set\n",
    "#random_state=101 to have the same random split everytime"
   ]
  },
  {
   "cell_type": "code",
   "execution_count": null,
   "id": "cf0df2d0-b362-40b9-b400-363631fe63d0",
   "metadata": {},
   "outputs": [],
   "source": [
    "from sklearn.linear_model import LinearRegression"
   ]
  },
  {
   "cell_type": "code",
   "execution_count": null,
   "id": "63d598f2-f02a-44fe-b583-ddecff069e79",
   "metadata": {},
   "outputs": [],
   "source": [
    "#then we instantiate an instance of the linearRegression model\n",
    "lm = LinearRegression() #creating a linearRegression object"
   ]
  },
  {
   "cell_type": "code",
   "execution_count": null,
   "id": "67983651-7b80-40a2-8505-bb37ed746ab4",
   "metadata": {},
   "outputs": [],
   "source": [
    "#train (fit) our linearRegression model\n",
    "lm.fit(X_train, y_train)"
   ]
  },
  {
   "cell_type": "code",
   "execution_count": null,
   "id": "b7989f11-74eb-4bbc-be9a-96e66636fea4",
   "metadata": {},
   "outputs": [],
   "source": [
    "# evaluate our model by checking its coefficent and see how to interpreat it\n",
    "print(lm.intercept_)  #y intercept (b) (constant bias term)"
   ]
  },
  {
   "cell_type": "code",
   "execution_count": null,
   "id": "5857ac4c-a8c7-453f-bf41-e418411172f6",
   "metadata": {},
   "outputs": [],
   "source": [
    "lm.coef_  #coefficents are related to each feature of our dataset\n",
    "# w0, w1, w2, w3 and w4"
   ]
  },
  {
   "cell_type": "code",
   "execution_count": null,
   "id": "4a5fdb85-1fa8-4bc9-839a-c7954250303b",
   "metadata": {},
   "outputs": [],
   "source": [
    "X_train.columns"
   ]
  },
  {
   "cell_type": "markdown",
   "id": "18fea71c-c61a-41fa-b156-2b56efe1cb0a",
   "metadata": {},
   "source": [
    "##### Now create a dataframe using these coefficents inorder to organize this data better.\n",
    "##### Datafame format: \n",
    "pd.DataFrame(data=None, index=None, columns=None, dtype=None, copy=None)\n"
   ]
  },
  {
   "cell_type": "code",
   "execution_count": null,
   "id": "c85a651a-653a-4954-b54f-7d7b5f2e3bf9",
   "metadata": {},
   "outputs": [],
   "source": [
    "cdf = pd.DataFrame(lm.coef_,X.columns,columns=['Coeff'])#cdf=coefficent dataFrame"
   ]
  },
  {
   "cell_type": "code",
   "execution_count": null,
   "id": "abf57cd8-d0be-4ea8-b630-bfe64315d513",
   "metadata": {},
   "outputs": [],
   "source": [
    "cdf"
   ]
  },
  {
   "cell_type": "markdown",
   "id": "51d3eb40-c357-4069-bf3c-5b903bf82198",
   "metadata": {},
   "source": [
    "#### Predictions"
   ]
  },
  {
   "cell_type": "code",
   "execution_count": null,
   "id": "000d9ec6-2b6b-4438-82a5-e790c3593125",
   "metadata": {},
   "outputs": [],
   "source": [
    "predictions = lm.predict(X_test)"
   ]
  },
  {
   "cell_type": "code",
   "execution_count": null,
   "id": "758ae2bf-3d8d-47af-8217-b304509448b1",
   "metadata": {},
   "outputs": [],
   "source": [
    "predictions # shows the predicted prices of the house"
   ]
  },
  {
   "cell_type": "code",
   "execution_count": null,
   "id": "b156afa1-f583-47b6-93d6-6397c2f0f1fb",
   "metadata": {},
   "outputs": [],
   "source": [
    "y_test # contains the correct prices of the house."
   ]
  },
  {
   "cell_type": "markdown",
   "id": "9cdbeb38-4dd2-489d-a2b6-9d0191324866",
   "metadata": {},
   "source": [
    "##### Now we can compare our predictions with the correct price (y_test)"
   ]
  },
  {
   "cell_type": "markdown",
   "id": "fde1aad0-36e5-4b42-97b4-0503c56c51a4",
   "metadata": {},
   "source": [
    "We can quicly analyze this by visualizing both predictions and y_test variables"
   ]
  },
  {
   "cell_type": "code",
   "execution_count": null,
   "id": "5966a7c0-eeab-4797-898c-b988bed8b8c5",
   "metadata": {},
   "outputs": [],
   "source": [
    "plt.scatter(y_test, predictions)"
   ]
  },
  {
   "cell_type": "markdown",
   "id": "3ee6d034-53b1-4c76-bb70-90f941ee4ec4",
   "metadata": {},
   "source": [
    "Looks like both y_test and predictions are lining up in a straight line which shows us our predition is very good"
   ]
  },
  {
   "cell_type": "markdown",
   "id": "8fa3e3aa-233c-4ae5-a656-1ad6ce223159",
   "metadata": {},
   "source": [
    "Now let's create a histogram of the residuals (difference between y_test and predictions)"
   ]
  },
  {
   "cell_type": "code",
   "execution_count": null,
   "id": "13572c76-2e26-4aec-bd19-4ef499f14b54",
   "metadata": {},
   "outputs": [],
   "source": [
    "sns.histplot(y_test-predictions, kde=True)"
   ]
  },
  {
   "cell_type": "markdown",
   "id": "84b7d1df-87bd-4b35-b110-7f84d7a16c0a",
   "metadata": {},
   "source": [
    "The above histogram shows that our residuals are normally distributed (meaning the model is a correct choice for the data).\n",
    "If it wasn't normally distributed we should check if linear regression model is the correct choice for our dataset."
   ]
  },
  {
   "cell_type": "markdown",
   "id": "0edb4547-f2f6-4660-9d02-0de743467b09",
   "metadata": {},
   "source": [
    "## Regression Evaluation Metrics\n",
    "\n",
    "\n",
    "Here are three common evaluation metrics for regression problems:\n",
    "\n",
    "**Mean Absolute Error** (MAE) is the mean of the absolute value of the errors:\n",
    "\n",
    "$$\\frac 1n\\sum_{i=1}^n|y_i-\\hat{y}_i|$$\n",
    "$y_i$ is True y label and $\\hat{y}_i$ is predicted y\n",
    "\n",
    "**Mean Squared Error** (MSE) is the mean of the squared errors:\n",
    "\n",
    "$$\\frac 1n\\sum_{i=1}^n(y_i-\\hat{y}_i)^2$$\n",
    "\n",
    "**Root Mean Squared Error** (RMSE) is the square root of the mean of the squared errors:\n",
    "\n",
    "$$\\sqrt{\\frac 1n\\sum_{i=1}^n(y_i-\\hat{y}_i)^2}$$\n",
    "\n",
    "Comparing these metrics:\n",
    "\n",
    "- **MAE** is the easiest to understand, because it's the average error.\n",
    "- **MSE** is more popular than MAE, because MSE \"punishes\" larger errors, which tends to be useful in the real world. But MSE squares the y units as well e.g. $\\$^2$ \n",
    "- **RMSE** is even more popular than MSE, because RMSE is interpretable in the \"y\" units (eliminates the square of the y unit).\n",
    "\n",
    "All of these are **loss functions**, because we want to minimize them."
   ]
  },
  {
   "cell_type": "markdown",
   "id": "73193bd1-d313-4895-aacb-b8d75d2cf58b",
   "metadata": {},
   "source": [
    "#### How to calculate Regression Evaluation Metrics on sklearn"
   ]
  },
  {
   "cell_type": "code",
   "execution_count": null,
   "id": "7cd677e2-72a8-4b2f-9446-23a9841b1a1d",
   "metadata": {
    "tags": []
   },
   "outputs": [],
   "source": [
    "from sklearn import metrics"
   ]
  },
  {
   "cell_type": "code",
   "execution_count": null,
   "id": "d4968457-dbca-4f7a-8583-7475c1927b65",
   "metadata": {},
   "outputs": [],
   "source": [
    "print('MAE:', metrics.mean_absolute_error(y_test, predictions))\n",
    "print('MSE:', metrics.mean_squared_error(y_test, predictions))\n",
    "print('RMSE:', np.sqrt(metrics.mean_squared_error(y_test, predictions)))"
   ]
  },
  {
   "cell_type": "code",
   "execution_count": null,
   "id": "166418fc-5bd9-4946-b476-5ca49b775cfc",
   "metadata": {},
   "outputs": [],
   "source": []
  },
  {
   "cell_type": "markdown",
   "id": "d8a1d71c-ca25-4964-b20a-adf9ddd67ae7",
   "metadata": {},
   "source": [
    "##### We can do the above data analysis on a real housing data set called boston data set\n",
    "###### How to load boston data set from sklearn\n",
    "Here I only show how to load and check the data (analysis part not done)"
   ]
  },
  {
   "cell_type": "code",
   "execution_count": null,
   "id": "a5cdfb67-7b96-4787-81f1-99322ac0b849",
   "metadata": {},
   "outputs": [],
   "source": [
    "from sklearn.datasets import load_boston"
   ]
  },
  {
   "cell_type": "code",
   "execution_count": null,
   "id": "6efef00f-fe2e-4238-a24b-68bf782b2970",
   "metadata": {},
   "outputs": [],
   "source": [
    "boston = load_boston()"
   ]
  },
  {
   "cell_type": "code",
   "execution_count": null,
   "id": "4f4c05a8-d3b3-47b5-9190-fc92bdefee23",
   "metadata": {},
   "outputs": [],
   "source": [
    "boston.keys()"
   ]
  },
  {
   "cell_type": "code",
   "execution_count": null,
   "id": "04d21bd7-c4b6-4921-8769-8213cf406f44",
   "metadata": {},
   "outputs": [],
   "source": [
    "#print(boston['DESCR']) # to check the description"
   ]
  },
  {
   "cell_type": "code",
   "execution_count": null,
   "id": "b092e960-865d-4a76-8f5d-a392336f7b04",
   "metadata": {},
   "outputs": [],
   "source": [
    "#print(boston['data']) # to check the data"
   ]
  },
  {
   "cell_type": "code",
   "execution_count": null,
   "id": "7ba75452-1643-47d7-a41a-4a854da86efb",
   "metadata": {},
   "outputs": [],
   "source": [
    "#print(boston['feature_names']) # in a dataframe these are column names"
   ]
  },
  {
   "cell_type": "code",
   "execution_count": null,
   "id": "2fa4fa88-9030-45d6-81f0-ca85b03a4772",
   "metadata": {},
   "outputs": [],
   "source": [
    "#print(boston['target']) # shows the target prices in thousands"
   ]
  },
  {
   "cell_type": "code",
   "execution_count": null,
   "id": "6ee915b4-ab15-497a-9789-e89281a12a97",
   "metadata": {},
   "outputs": [],
   "source": []
  }
 ],
 "metadata": {
  "kernelspec": {
   "display_name": "Python 3",
   "language": "python",
   "name": "python3"
  },
  "language_info": {
   "codemirror_mode": {
    "name": "ipython",
    "version": 3
   },
   "file_extension": ".py",
   "mimetype": "text/x-python",
   "name": "python",
   "nbconvert_exporter": "python",
   "pygments_lexer": "ipython3",
   "version": "3.8.8"
  }
 },
 "nbformat": 4,
 "nbformat_minor": 5
}
